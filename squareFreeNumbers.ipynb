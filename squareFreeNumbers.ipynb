{
 "cells": [
  {
   "cell_type": "code",
   "execution_count": 1,
   "metadata": {},
   "outputs": [
    {
     "name": "stdout",
     "output_type": "stream",
     "text": [
      "Defaulting to user installation because normal site-packages is not writeable\n",
      "Collecting gmpy\n",
      "  Using cached gmpy-1.17.zip (147 kB)\n",
      "  Preparing metadata (setup.py) ... \u001b[?25ldone\n",
      "\u001b[?25hBuilding wheels for collected packages: gmpy\n",
      "  Building wheel for gmpy (setup.py) ... \u001b[?25lerror\n",
      "  \u001b[1;31merror\u001b[0m: \u001b[1msubprocess-exited-with-error\u001b[0m\n",
      "  \n",
      "  \u001b[31m×\u001b[0m \u001b[32mpython setup.py bdist_wheel\u001b[0m did not run successfully.\n",
      "  \u001b[31m│\u001b[0m exit code: \u001b[1;36m1\u001b[0m\n",
      "  \u001b[31m╰─>\u001b[0m \u001b[31m[14 lines of output]\u001b[0m\n",
      "  \u001b[31m   \u001b[0m running bdist_wheel\n",
      "  \u001b[31m   \u001b[0m running build\n",
      "  \u001b[31m   \u001b[0m running build_ext\n",
      "  \u001b[31m   \u001b[0m building 'gmpy' extension\n",
      "  \u001b[31m   \u001b[0m creating build\n",
      "  \u001b[31m   \u001b[0m creating build/temp.macosx-10.9-universal2-3.9\n",
      "  \u001b[31m   \u001b[0m creating build/temp.macosx-10.9-universal2-3.9/src\n",
      "  \u001b[31m   \u001b[0m clang -Wno-unused-result -Wsign-compare -Wunreachable-code -fno-common -dynamic -DNDEBUG -g -fwrapv -O3 -Wall -iwithsysroot/System/Library/Frameworks/System.framework/PrivateHeaders -iwithsysroot/Applications/Xcode.app/Contents/Developer/Library/Frameworks/Python3.framework/Versions/3.9/Headers -arch arm64 -arch x86_64 -Werror=implicit-function-declaration -Wno-error=unreachable-code -I./src -I/Library/Developer/CommandLineTools/Library/Frameworks/Python3.framework/Versions/3.9/include/python3.9 -c src/gmpy.c -o build/temp.macosx-10.9-universal2-3.9/src/gmpy.o\n",
      "  \u001b[31m   \u001b[0m In file included from src/gmpy.c:251:\n",
      "  \u001b[31m   \u001b[0m ./src/gmpy.h:30:10: fatal error: 'gmp.h' file not found\n",
      "  \u001b[31m   \u001b[0m #include \"gmp.h\"\n",
      "  \u001b[31m   \u001b[0m          ^~~~~~~\n",
      "  \u001b[31m   \u001b[0m 1 error generated.\n",
      "  \u001b[31m   \u001b[0m error: command '/usr/bin/clang' failed with exit code 1\n",
      "  \u001b[31m   \u001b[0m \u001b[31m[end of output]\u001b[0m\n",
      "  \n",
      "  \u001b[1;35mnote\u001b[0m: This error originates from a subprocess, and is likely not a problem with pip.\n",
      "\u001b[31m  ERROR: Failed building wheel for gmpy\u001b[0m\u001b[31m\n",
      "\u001b[0m\u001b[?25h  Running setup.py clean for gmpy\n",
      "Failed to build gmpy\n",
      "\u001b[31mERROR: Could not build wheels for gmpy, which is required to install pyproject.toml-based projects\u001b[0m\u001b[31m\n",
      "\u001b[0m\n",
      "\u001b[1m[\u001b[0m\u001b[34;49mnotice\u001b[0m\u001b[1;39;49m]\u001b[0m\u001b[39;49m A new release of pip is available: \u001b[0m\u001b[31;49m23.2\u001b[0m\u001b[39;49m -> \u001b[0m\u001b[32;49m23.3.1\u001b[0m\n",
      "\u001b[1m[\u001b[0m\u001b[34;49mnotice\u001b[0m\u001b[1;39;49m]\u001b[0m\u001b[39;49m To update, run: \u001b[0m\u001b[32;49m/Library/Developer/CommandLineTools/usr/bin/python3 -m pip install --upgrade pip\u001b[0m\n"
     ]
    }
   ],
   "source": [
    "!pip install gmpy"
   ]
  },
  {
   "cell_type": "code",
   "execution_count": 2,
   "metadata": {},
   "outputs": [
    {
     "ename": "ImportError",
     "evalue": "dlopen(/Users/thammina/opt/anaconda3/lib/python3.9/site-packages/gmpy.cpython-39-darwin.so, 0x0002): Library not loaded: @rpath/libgmp.10.dylib\n  Referenced from: <DE1CEA96-5BB6-3EAF-B3C1-13DF853EADD0> /Users/thammina/opt/anaconda3/lib/python3.9/site-packages/gmpy.cpython-39-darwin.so\n  Reason: tried: '/Users/thammina/opt/anaconda3/lib/libgmp.10.dylib' (no such file), '/System/Volumes/Preboot/Cryptexes/OS/Users/thammina/opt/anaconda3/lib/libgmp.10.dylib' (no such file), '/Users/thammina/opt/anaconda3/lib/libgmp.10.dylib' (no such file), '/System/Volumes/Preboot/Cryptexes/OS/Users/thammina/opt/anaconda3/lib/libgmp.10.dylib' (no such file), '/Users/thammina/opt/anaconda3/lib/libgmp.10.dylib' (no such file), '/System/Volumes/Preboot/Cryptexes/OS/Users/thammina/opt/anaconda3/lib/libgmp.10.dylib' (no such file), '/Users/thammina/opt/anaconda3/lib/libgmp.10.dylib' (no such file), '/System/Volumes/Preboot/Cryptexes/OS/Users/thammina/opt/anaconda3/lib/libgmp.10.dylib' (no such file), '/Users/thammina/opt/anaconda3/bin/../lib/libgmp.10.dylib' (no such file), '/Users/thammina/opt/anaconda3/bin/../lib/libgmp.10.dylib' (no such file), '/System/Volumes/Preboot/Cryptexes/OS@rpath/libgmp.10.dylib' (no such file), '/Users/thammina/opt/anaconda3/lib/libgmp.10.dylib' (no such file), '/System/Volumes/Preboot/Cryptexes/OS/Users/thammina/opt/anaconda3/lib/libgmp.10.dylib' (no such file), '/Users/thammina/opt/anaconda3/lib/libgmp.10.dylib' (no such file), '/System/Volumes/Preboot/Cryptexes/OS/Users/thammina/opt/anaconda3/lib/libgmp.10.dylib' (no such file), '/Users/thammina/opt/anaconda3/lib/libgmp.10.dylib' (no such file), '/System/Volumes/Preboot/Cryptexes/OS/Users/thammina/opt/anaconda3/lib/libgmp.10.dylib' (no such file), '/Users/thammina/opt/anaconda3/lib/libgmp.10.dylib' (no such file), '/System/Volumes/Preboot/Cryptexes/OS/Users/thammina/opt/anaconda3/lib/libgmp.10.dylib' (no such file), '/Users/thammina/opt/anaconda3/bin/../lib/libgmp.10.dylib' (no such file), '/Users/thammina/opt/anaconda3/bin/../lib/libgmp.10.dylib' (no such file), '/usr/local/lib/libgmp.10.dylib' (no such file), '/usr/lib/libgmp.10.dylib' (no such file, not in dyld cache)",
     "output_type": "error",
     "traceback": [
      "\u001b[0;31m---------------------------------------------------------------------------\u001b[0m",
      "\u001b[0;31mImportError\u001b[0m                               Traceback (most recent call last)",
      "Cell \u001b[0;32mIn[2], line 5\u001b[0m\n\u001b[1;32m      1\u001b[0m \u001b[39mfrom\u001b[39;00m \u001b[39mfractions\u001b[39;00m \u001b[39mimport\u001b[39;00m Fraction\n\u001b[0;32m----> 5\u001b[0m \u001b[39mimport\u001b[39;00m \u001b[39mgmpy\u001b[39;00m\n\u001b[1;32m      7\u001b[0m \u001b[39mimport\u001b[39;00m \u001b[39mlogging\u001b[39;00m\n\u001b[1;32m      8\u001b[0m \u001b[39mimport\u001b[39;00m \u001b[39mtime\u001b[39;00m \n",
      "\u001b[0;31mImportError\u001b[0m: dlopen(/Users/thammina/opt/anaconda3/lib/python3.9/site-packages/gmpy.cpython-39-darwin.so, 0x0002): Library not loaded: @rpath/libgmp.10.dylib\n  Referenced from: <DE1CEA96-5BB6-3EAF-B3C1-13DF853EADD0> /Users/thammina/opt/anaconda3/lib/python3.9/site-packages/gmpy.cpython-39-darwin.so\n  Reason: tried: '/Users/thammina/opt/anaconda3/lib/libgmp.10.dylib' (no such file), '/System/Volumes/Preboot/Cryptexes/OS/Users/thammina/opt/anaconda3/lib/libgmp.10.dylib' (no such file), '/Users/thammina/opt/anaconda3/lib/libgmp.10.dylib' (no such file), '/System/Volumes/Preboot/Cryptexes/OS/Users/thammina/opt/anaconda3/lib/libgmp.10.dylib' (no such file), '/Users/thammina/opt/anaconda3/lib/libgmp.10.dylib' (no such file), '/System/Volumes/Preboot/Cryptexes/OS/Users/thammina/opt/anaconda3/lib/libgmp.10.dylib' (no such file), '/Users/thammina/opt/anaconda3/lib/libgmp.10.dylib' (no such file), '/System/Volumes/Preboot/Cryptexes/OS/Users/thammina/opt/anaconda3/lib/libgmp.10.dylib' (no such file), '/Users/thammina/opt/anaconda3/bin/../lib/libgmp.10.dylib' (no such file), '/Users/thammina/opt/anaconda3/bin/../lib/libgmp.10.dylib' (no such file), '/System/Volumes/Preboot/Cryptexes/OS@rpath/libgmp.10.dylib' (no such file), '/Users/thammina/opt/anaconda3/lib/libgmp.10.dylib' (no such file), '/System/Volumes/Preboot/Cryptexes/OS/Users/thammina/opt/anaconda3/lib/libgmp.10.dylib' (no such file), '/Users/thammina/opt/anaconda3/lib/libgmp.10.dylib' (no such file), '/System/Volumes/Preboot/Cryptexes/OS/Users/thammina/opt/anaconda3/lib/libgmp.10.dylib' (no such file), '/Users/thammina/opt/anaconda3/lib/libgmp.10.dylib' (no such file), '/System/Volumes/Preboot/Cryptexes/OS/Users/thammina/opt/anaconda3/lib/libgmp.10.dylib' (no such file), '/Users/thammina/opt/anaconda3/lib/libgmp.10.dylib' (no such file), '/System/Volumes/Preboot/Cryptexes/OS/Users/thammina/opt/anaconda3/lib/libgmp.10.dylib' (no such file), '/Users/thammina/opt/anaconda3/bin/../lib/libgmp.10.dylib' (no such file), '/Users/thammina/opt/anaconda3/bin/../lib/libgmp.10.dylib' (no such file), '/usr/local/lib/libgmp.10.dylib' (no such file), '/usr/lib/libgmp.10.dylib' (no such file, not in dyld cache)"
     ]
    }
   ],
   "source": [
    "from fractions import Fraction\n",
    "\n",
    "\n",
    "\n",
    "import gmpy\n",
    "\n",
    "import logging\n",
    "import time \n",
    "PRODUCTIONS_UPPERBOUND = 1000\n",
    "PRODUCTIONS_LOWERBOUND = 1"
   ]
  },
  {
   "cell_type": "code",
   "execution_count": null,
   "metadata": {},
   "outputs": [],
   "source": []
  },
  {
   "cell_type": "code",
   "execution_count": null,
   "metadata": {},
   "outputs": [],
   "source": []
  }
 ],
 "metadata": {
  "kernelspec": {
   "display_name": "Python 3",
   "language": "python",
   "name": "python3"
  },
  "language_info": {
   "codemirror_mode": {
    "name": "ipython",
    "version": 3
   },
   "file_extension": ".py",
   "mimetype": "text/x-python",
   "name": "python",
   "nbconvert_exporter": "python",
   "pygments_lexer": "ipython3",
   "version": "3.9.6"
  },
  "orig_nbformat": 4
 },
 "nbformat": 4,
 "nbformat_minor": 2
}
