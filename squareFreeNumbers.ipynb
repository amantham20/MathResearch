{
 "cells": [
  {
   "cell_type": "code",
   "execution_count": 1,
   "metadata": {},
   "outputs": [
    {
     "name": "stdout",
     "output_type": "stream",
     "text": [
      "Requirement already satisfied: gmpy in /Users/thammina/opt/anaconda3/lib/python3.9/site-packages (1.17)\n"
     ]
    }
   ],
   "source": [
    "!pip install gmpy"
   ]
  },
  {
   "cell_type": "code",
   "execution_count": 2,
   "metadata": {},
   "outputs": [
    {
     "ename": "ImportError",
     "evalue": "dlopen(/Users/thammina/opt/anaconda3/lib/python3.9/site-packages/gmpy.cpython-39-darwin.so, 0x0002): Library not loaded: @rpath/libgmp.10.dylib\n  Referenced from: <DE1CEA96-5BB6-3EAF-B3C1-13DF853EADD0> /Users/thammina/opt/anaconda3/lib/python3.9/site-packages/gmpy.cpython-39-darwin.so\n  Reason: tried: '/Users/thammina/opt/anaconda3/lib/libgmp.10.dylib' (no such file), '/System/Volumes/Preboot/Cryptexes/OS/Users/thammina/opt/anaconda3/lib/libgmp.10.dylib' (no such file), '/Users/thammina/opt/anaconda3/lib/libgmp.10.dylib' (no such file), '/System/Volumes/Preboot/Cryptexes/OS/Users/thammina/opt/anaconda3/lib/libgmp.10.dylib' (no such file), '/Users/thammina/opt/anaconda3/lib/libgmp.10.dylib' (no such file), '/System/Volumes/Preboot/Cryptexes/OS/Users/thammina/opt/anaconda3/lib/libgmp.10.dylib' (no such file), '/Users/thammina/opt/anaconda3/lib/libgmp.10.dylib' (no such file), '/System/Volumes/Preboot/Cryptexes/OS/Users/thammina/opt/anaconda3/lib/libgmp.10.dylib' (no such file), '/Users/thammina/opt/anaconda3/bin/../lib/libgmp.10.dylib' (no such file), '/Users/thammina/opt/anaconda3/bin/../lib/libgmp.10.dylib' (no such file), '/System/Volumes/Preboot/Cryptexes/OS@rpath/libgmp.10.dylib' (no such file), '/Users/thammina/opt/anaconda3/lib/libgmp.10.dylib' (no such file), '/System/Volumes/Preboot/Cryptexes/OS/Users/thammina/opt/anaconda3/lib/libgmp.10.dylib' (no such file), '/Users/thammina/opt/anaconda3/lib/libgmp.10.dylib' (no such file), '/System/Volumes/Preboot/Cryptexes/OS/Users/thammina/opt/anaconda3/lib/libgmp.10.dylib' (no such file), '/Users/thammina/opt/anaconda3/lib/libgmp.10.dylib' (no such file), '/System/Volumes/Preboot/Cryptexes/OS/Users/thammina/opt/anaconda3/lib/libgmp.10.dylib' (no such file), '/Users/thammina/opt/anaconda3/lib/libgmp.10.dylib' (no such file), '/System/Volumes/Preboot/Cryptexes/OS/Users/thammina/opt/anaconda3/lib/libgmp.10.dylib' (no such file), '/Users/thammina/opt/anaconda3/bin/../lib/libgmp.10.dylib' (no such file), '/Users/thammina/opt/anaconda3/bin/../lib/libgmp.10.dylib' (no such file), '/usr/local/lib/libgmp.10.dylib' (no such file), '/usr/lib/libgmp.10.dylib' (no such file, not in dyld cache)",
     "output_type": "error",
     "traceback": [
      "\u001b[0;31m---------------------------------------------------------------------------\u001b[0m",
      "\u001b[0;31mImportError\u001b[0m                               Traceback (most recent call last)",
      "Cell \u001b[0;32mIn[2], line 5\u001b[0m\n\u001b[1;32m      1\u001b[0m \u001b[39mfrom\u001b[39;00m \u001b[39mfractions\u001b[39;00m \u001b[39mimport\u001b[39;00m Fraction\n\u001b[0;32m----> 5\u001b[0m \u001b[39mimport\u001b[39;00m \u001b[39mgmpy\u001b[39;00m\n\u001b[1;32m      7\u001b[0m \u001b[39mimport\u001b[39;00m \u001b[39mlogging\u001b[39;00m\n\u001b[1;32m      8\u001b[0m \u001b[39mimport\u001b[39;00m \u001b[39mtime\u001b[39;00m \n",
      "\u001b[0;31mImportError\u001b[0m: dlopen(/Users/thammina/opt/anaconda3/lib/python3.9/site-packages/gmpy.cpython-39-darwin.so, 0x0002): Library not loaded: @rpath/libgmp.10.dylib\n  Referenced from: <DE1CEA96-5BB6-3EAF-B3C1-13DF853EADD0> /Users/thammina/opt/anaconda3/lib/python3.9/site-packages/gmpy.cpython-39-darwin.so\n  Reason: tried: '/Users/thammina/opt/anaconda3/lib/libgmp.10.dylib' (no such file), '/System/Volumes/Preboot/Cryptexes/OS/Users/thammina/opt/anaconda3/lib/libgmp.10.dylib' (no such file), '/Users/thammina/opt/anaconda3/lib/libgmp.10.dylib' (no such file), '/System/Volumes/Preboot/Cryptexes/OS/Users/thammina/opt/anaconda3/lib/libgmp.10.dylib' (no such file), '/Users/thammina/opt/anaconda3/lib/libgmp.10.dylib' (no such file), '/System/Volumes/Preboot/Cryptexes/OS/Users/thammina/opt/anaconda3/lib/libgmp.10.dylib' (no such file), '/Users/thammina/opt/anaconda3/lib/libgmp.10.dylib' (no such file), '/System/Volumes/Preboot/Cryptexes/OS/Users/thammina/opt/anaconda3/lib/libgmp.10.dylib' (no such file), '/Users/thammina/opt/anaconda3/bin/../lib/libgmp.10.dylib' (no such file), '/Users/thammina/opt/anaconda3/bin/../lib/libgmp.10.dylib' (no such file), '/System/Volumes/Preboot/Cryptexes/OS@rpath/libgmp.10.dylib' (no such file), '/Users/thammina/opt/anaconda3/lib/libgmp.10.dylib' (no such file), '/System/Volumes/Preboot/Cryptexes/OS/Users/thammina/opt/anaconda3/lib/libgmp.10.dylib' (no such file), '/Users/thammina/opt/anaconda3/lib/libgmp.10.dylib' (no such file), '/System/Volumes/Preboot/Cryptexes/OS/Users/thammina/opt/anaconda3/lib/libgmp.10.dylib' (no such file), '/Users/thammina/opt/anaconda3/lib/libgmp.10.dylib' (no such file), '/System/Volumes/Preboot/Cryptexes/OS/Users/thammina/opt/anaconda3/lib/libgmp.10.dylib' (no such file), '/Users/thammina/opt/anaconda3/lib/libgmp.10.dylib' (no such file), '/System/Volumes/Preboot/Cryptexes/OS/Users/thammina/opt/anaconda3/lib/libgmp.10.dylib' (no such file), '/Users/thammina/opt/anaconda3/bin/../lib/libgmp.10.dylib' (no such file), '/Users/thammina/opt/anaconda3/bin/../lib/libgmp.10.dylib' (no such file), '/usr/local/lib/libgmp.10.dylib' (no such file), '/usr/lib/libgmp.10.dylib' (no such file, not in dyld cache)"
     ]
    }
   ],
   "source": [
    "from fractions import Fraction\n",
    "\n",
    "\n",
    "\n",
    "import gmpy\n",
    "\n",
    "import logging\n",
    "import time \n",
    "PRODUCTIONS_UPPERBOUND = 1000\n",
    "PRODUCTIONS_LOWERBOUND = 1"
   ]
  },
  {
   "cell_type": "code",
   "execution_count": null,
   "metadata": {},
   "outputs": [],
   "source": []
  },
  {
   "cell_type": "code",
   "execution_count": null,
   "metadata": {},
   "outputs": [],
   "source": []
  }
 ],
 "metadata": {
  "kernelspec": {
   "display_name": "Python 3",
   "language": "python",
   "name": "python3"
  },
  "language_info": {
   "codemirror_mode": {
    "name": "ipython",
    "version": 3
   },
   "file_extension": ".py",
   "mimetype": "text/x-python",
   "name": "python",
   "nbconvert_exporter": "python",
   "pygments_lexer": "ipython3",
   "version": "3.9.13"
  },
  "orig_nbformat": 4
 },
 "nbformat": 4,
 "nbformat_minor": 2
}
